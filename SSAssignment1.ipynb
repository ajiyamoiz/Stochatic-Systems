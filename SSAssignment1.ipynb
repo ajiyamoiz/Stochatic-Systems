{
  "nbformat": 4,
  "nbformat_minor": 0,
  "metadata": {
    "colab": {
      "provenance": [],
      "authorship_tag": "ABX9TyO5lj3HH/C9CKhJfwQ+IiEs"
    },
    "kernelspec": {
      "name": "python3",
      "display_name": "Python 3"
    },
    "language_info": {
      "name": "python"
    }
  },
  "cells": [
    {
      "cell_type": "markdown",
      "source": [
        "### Coding exercise:\n",
        "\n",
        "a) Generate 1000 random variable (continuous) between the interval [0,10] and print the first 5 of\n",
        "them.\n",
        "\n",
        "b) Calculate the PDF and CDF of the above uniform random variables.\n",
        "\n",
        "c) Plot the CDF and PDF obtained from (b)"
      ],
      "metadata": {
        "id": "1_PcCvaHncCr"
      }
    },
    {
      "cell_type": "code",
      "source": [
        "import numpy as np\n",
        "from numpy import random as np_random\n",
        "import matplotlib.pyplot as plt\n",
        "\n",
        "x=np_random.uniform(0,10,1000) #Generate 1000 random numbers between 0 and 10\n",
        "\n",
        "first_five=x[0:5]\n",
        "print(first_five) #Print the first five of them\n",
        "\n",
        "#Define variables and initialize arrays\n",
        "a=0\n",
        "b=10\n",
        "pdf=[]\n",
        "cdf=[]\n",
        "\n",
        "#Calculate PDF and CDF\n",
        "for i in range (0,1000):\n",
        "    y1=1/(b-a) #PDF formula\n",
        "    y2=(x[i]-a)/(b-a) #CDF formula\n",
        "    pdf.append(y1)\n",
        "    cdf.append(y2)\n",
        "\n",
        "#Plot graphs\n",
        "plt.plot(x,pdf,label='PDF')\n",
        "plt.plot(x,cdf,label='CDF')\n",
        "plt.legend()\n",
        "plt.show()"
      ],
      "metadata": {
        "colab": {
          "base_uri": "https://localhost:8080/",
          "height": 283
        },
        "id": "axtZwWOJu7yy",
        "outputId": "b7a513e1-da29-413b-d483-b36fcfb95f6a"
      },
      "execution_count": null,
      "outputs": [
        {
          "output_type": "stream",
          "name": "stdout",
          "text": [
            "[3.54520617 0.85681498 3.25535794 4.26607333 6.85820471]\n"
          ]
        },
        {
          "output_type": "display_data",
          "data": {
            "text/plain": [
              "<Figure size 432x288 with 1 Axes>"
            ],
            "image/png": "[encoded data removed]"
          },
          "metadata": {
            "needs_background": "light"
          }
        }
      ]
    },
    {
      "cell_type": "code",
      "source": [
        "%matplotlib inline\n",
        "\n",
        "import numpy as np\n",
        "import matplotlib.pyplot as plt\n",
        "import scipy.stats as stats\n",
        "\n",
        "uniform_data = stats.uniform.rvs(size=1000,  # Generate 1000 numbers\n",
        "                                 loc = 0,      # From 0\n",
        "                                 scale=10)     # To 10\n",
        "\n",
        "pd.DataFrame(uniform_data).plot(kind=\"density\",  # Plot the distribution\n",
        "                               figsize=(3,3),\n",
        "                               xlim=(0,10)\n",
        "                               );"
      ],
      "metadata": {
        "id": "vorxqa3v8pco",
        "colab": {
          "base_uri": "https://localhost:8080/",
          "height": 244
        },
        "outputId": "6b9dd183-9f1d-41f2-90cc-8dc87aaa89c4"
      },
      "execution_count": null,
      "outputs": [
        {
          "output_type": "error",
          "ename": "NameError",
          "evalue": "ignored",
          "traceback": [
            "\u001b[0;31m---------------------------------------------------------------------------\u001b[0m",
            "\u001b[0;31mNameError\u001b[0m                                 Traceback (most recent call last)",
            "\u001b[0;32m<ipython-input-2-b395b30225ba>\u001b[0m in \u001b[0;36m<module>\u001b[0;34m\u001b[0m\n\u001b[1;32m      9\u001b[0m                                  scale=10)     # To 10\n\u001b[1;32m     10\u001b[0m \u001b[0;34m\u001b[0m\u001b[0m\n\u001b[0;32m---> 11\u001b[0;31m pd.DataFrame(uniform_data).plot(kind=\"density\",  # Plot the distribution\n\u001b[0m\u001b[1;32m     12\u001b[0m                                \u001b[0mfigsize\u001b[0m\u001b[0;34m=\u001b[0m\u001b[0;34m(\u001b[0m\u001b[0;36m3\u001b[0m\u001b[0;34m,\u001b[0m\u001b[0;36m3\u001b[0m\u001b[0;34m)\u001b[0m\u001b[0;34m,\u001b[0m\u001b[0;34m\u001b[0m\u001b[0;34m\u001b[0m\u001b[0m\n\u001b[1;32m     13\u001b[0m                                \u001b[0mxlim\u001b[0m\u001b[0;34m=\u001b[0m\u001b[0;34m(\u001b[0m\u001b[0;36m0\u001b[0m\u001b[0;34m,\u001b[0m\u001b[0;36m10\u001b[0m\u001b[0;34m)\u001b[0m\u001b[0;34m\u001b[0m\u001b[0;34m\u001b[0m\u001b[0m\n",
            "\u001b[0;31mNameError\u001b[0m: name 'pd' is not defined"
          ]
        }
      ]
    },
    {
      "cell_type": "code",
      "execution_count": null,
      "metadata": {
        "id": "xRJUhpm2nYvw"
      },
      "outputs": [],
      "source": [
        "# defining the libraries\n",
        "import numpy as np\n",
        "import matplotlib.pyplot as plt\n",
        "import pandas as pd\n",
        "%matplotlib inline\n",
        "\n",
        "# No of Data points\n",
        "N = 1000\n",
        "\n",
        "# initializing random values\n",
        "data = np.random.randn(N)\n",
        "\n",
        "# getting data of the histogram\n",
        "count, bins_count = np.histogram(data, bins=10)\n",
        "\n",
        "# finding the PDF of the histogram using count values\n",
        "pdf = count / sum(count)\n",
        "\n",
        "# using numpy np.cumsum to calculate the CDF\n",
        "# We can also find using the PDF values by looping and adding\n",
        "cdf = np.cumsum(pdf)\n",
        "\n",
        "# plotting PDF and CDF\n",
        "plt.plot(bins_count[1:], pdf, color=\"red\", label=\"PDF\")\n",
        "plt.plot(bins_count[1:], cdf, label=\"CDF\")\n",
        "plt.legend()"
      ]
    },
    {
      "cell_type": "code",
      "source": [
        "# defining the libraries\n",
        "import numpy as np\n",
        "import matplotlib.pyplot as plt\n",
        "import pandas as pd\n",
        "%matplotlib inline\n",
        "\n",
        "# No of data points used\n",
        "N = 1000\n",
        "\n",
        "# normal distribution\n",
        "data = np.random.randn(N)\n",
        "\n",
        "# sort the data in ascending order\n",
        "x = np.sort(data)\n",
        "\n",
        "# get the cdf values of y\n",
        "y = np.arange(N) / float(N)\n",
        "\n",
        "# plotting\n",
        "plt.xlabel('x-axis')\n",
        "plt.ylabel('y-axis')\n",
        "\n",
        "plt.title('CDF using sorting the data')\n",
        "\n",
        "plt.plot(x, y, marker='o')"
      ],
      "metadata": {
        "id": "DwmUIlmZn-Wc"
      },
      "execution_count": null,
      "outputs": []
    }
  ]
}